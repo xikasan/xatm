{
 "cells": [
  {
   "cell_type": "code",
   "execution_count": 1,
   "metadata": {
    "pycharm": {
     "name": "#%%\n"
    }
   },
   "outputs": [],
   "source": [
    "  import sys\n",
    "  sys.path.append('/Users/yoshikawa/workspace/atm')\n"
   ]
  },
  {
   "cell_type": "code",
   "execution_count": 2,
   "metadata": {
    "pycharm": {
     "name": "#%%\n"
    }
   },
   "outputs": [],
   "source": [
    "import xtools as xt\n",
    "import numpy as np\n"
   ]
  },
  {
   "cell_type": "markdown",
   "metadata": {
    "pycharm": {
     "name": "#%% md\n"
    }
   },
   "source": [
    "## 単滑走路問題"
   ]
  },
  {
   "cell_type": "code",
   "execution_count": 3,
   "metadata": {
    "pycharm": {
     "name": "#%%\n"
    }
   },
   "outputs": [],
   "source": [
    "from atm.optimizer.objective import get_obj_single_runway\n",
    "from atm.flight.generator import ScenarioGenerator, Scenario\n",
    "from atm.separation import recat\n"
   ]
  },
  {
   "cell_type": "markdown",
   "metadata": {
    "pycharm": {
     "name": "#%% md\n"
    }
   },
   "source": [
    "コンフィグdictの設定"
   ]
  },
  {
   "cell_type": "markdown",
   "metadata": {
    "pycharm": {
     "name": "#%% md\n"
    }
   },
   "source": [
    "xtools.Configオブジェクトとしているが構造さえ守られていればdict形式でOK"
   ]
  },
  {
   "cell_type": "code",
   "execution_count": 4,
   "metadata": {
    "pycharm": {
     "name": "#%%\n"
    }
   },
   "outputs": [],
   "source": [
    "cf = xt.Config(dict(\n",
    "    dt=10,\n",
    "    num=30,\n",
    "    scenario=dict(\n",
    "        interval=60,\n",
    "        window=300,\n",
    "        mode=\"mix\",\n",
    "        standard=\"recat\"\n",
    "    )\n",
    "))\n"
   ]
  },
  {
   "cell_type": "markdown",
   "metadata": {
    "pycharm": {
     "name": "#%% md\n"
    }
   },
   "source": [
    "セパレーションの選択"
   ]
  },
  {
   "cell_type": "code",
   "execution_count": 5,
   "metadata": {
    "pycharm": {
     "name": "#%%\n"
    }
   },
   "outputs": [],
   "source": [
    "sep = recat.TBS\n"
   ]
  },
  {
   "cell_type": "markdown",
   "metadata": {
    "pycharm": {
     "name": "#%% md\n"
    }
   },
   "source": [
    "シナリオの生成"
   ]
  },
  {
   "cell_type": "code",
   "execution_count": 6,
   "metadata": {
    "pycharm": {
     "name": "#%%\n"
    }
   },
   "outputs": [],
   "source": [
    "sgen = ScenarioGenerator(cf.scenario)\n",
    "vols = sgen(cf.num)\n"
   ]
  },
  {
   "cell_type": "markdown",
   "metadata": {
    "pycharm": {
     "name": "#%% md\n"
    }
   },
   "source": [
    "`penalty_coef`は割り当て制限時間 Flight.due までに割り当てができなかったフライト数に比例したペナルティの係数\n",
    "`penalty = num_violated * penalty_coef`\n",
    "\n",
    "目的関数はシナリオが新しくなるたびに作り直し"
   ]
  },
  {
   "cell_type": "code",
   "execution_count": 8,
   "metadata": {
    "pycharm": {
     "name": "#%%\n"
    }
   },
   "outputs": [],
   "source": [
    "obj = get_obj_single_runway(vols, sep, penalty_coef=1.0)\n"
   ]
  },
  {
   "cell_type": "markdown",
   "metadata": {
    "pycharm": {
     "name": "#%% md\n"
    }
   },
   "source": [
    "### 関数の叩き方\n",
    "\n",
    "フライト番号を割り当て順に並べたlistで入力"
   ]
  },
  {
   "cell_type": "code",
   "execution_count": 11,
   "metadata": {
    "pycharm": {
     "name": "#%%\n"
    }
   },
   "outputs": [
    {
     "data": {
      "text/plain": [
       "805.5"
      ]
     },
     "execution_count": 11,
     "metadata": {},
     "output_type": "execute_result"
    }
   ],
   "source": [
    "vol_orders = np.arange(cf.num)\n",
    "obj(vol_orders)\n"
   ]
  },
  {
   "cell_type": "markdown",
   "metadata": {
    "pycharm": {
     "name": "#%% md\n"
    }
   },
   "source": [
    "## 多滑走路問題"
   ]
  },
  {
   "cell_type": "code",
   "execution_count": 13,
   "metadata": {
    "pycharm": {
     "name": "#%%\n"
    }
   },
   "outputs": [],
   "source": [
    "from atm.optimizer.objective import get_obj_multiple_runway\n",
    "# 以下のインポートは重複なので省略\n",
    "# from atm.flight.generator import ScenarioGenerator, Scenario\n",
    "# from atm.separation import recat\n"
   ]
  },
  {
   "cell_type": "markdown",
   "metadata": {
    "pycharm": {
     "name": "#%% md\n"
    }
   },
   "source": [
    "コンフィグdictの設定"
   ]
  },
  {
   "cell_type": "code",
   "execution_count": null,
   "metadata": {
    "pycharm": {
     "name": "#%%\n"
    }
   },
   "outputs": [],
   "source": [
    "cf = xt.Config(dict(\n",
    "    dt=10,\n",
    "    num=30,\n",
    "    scenario=dict(\n",
    "        interval=60,\n",
    "        window=300,\n",
    "        mode=\"mix\",\n",
    "        standard=\"recat\"\n",
    "    )\n",
    "))\n"
   ]
  },
  {
   "cell_type": "markdown",
   "metadata": {
    "pycharm": {
     "name": "#%% md\n"
    }
   },
   "source": [
    "セパレーションの選択"
   ]
  },
  {
   "cell_type": "code",
   "execution_count": null,
   "metadata": {
    "pycharm": {
     "name": "#%%\n"
    }
   },
   "outputs": [],
   "source": [
    "sep = recat.TBS\n"
   ]
  },
  {
   "cell_type": "markdown",
   "metadata": {
    "pycharm": {
     "name": "#%% md\n"
    }
   },
   "source": [
    "シナリオの生成"
   ]
  },
  {
   "cell_type": "code",
   "execution_count": null,
   "metadata": {
    "pycharm": {
     "name": "#%%\n"
    }
   },
   "outputs": [],
   "source": [
    "sgen = ScenarioGenerator(cf.scenario)\n",
    "vols = sgen(cf.num)\n"
   ]
  },
  {
   "cell_type": "markdown",
   "metadata": {
    "pycharm": {
     "name": "#%% md\n"
    }
   },
   "source": [
    "単滑走路問題"
   ]
  },
  {
   "cell_type": "code",
   "execution_count": 15,
   "metadata": {
    "pycharm": {
     "name": "#%%\n"
    }
   },
   "outputs": [],
   "source": [
    "obj = get_obj_multiple_runway(vols, sep, penalty_coef=1.0)\n"
   ]
  },
  {
   "cell_type": "markdown",
   "metadata": {
    "pycharm": {
     "name": "#%% md\n"
    }
   },
   "source": [
    "### 関数の叩き方\n",
    "\n",
    "- 各滑走路について割り当て順通りにフライト番号をlistで入力\n",
    "- その滑走路にフライトの割り当てがなくても空listを入力\n",
    "- 当然割り当てるフライト数が異なっていてもOK\n",
    "\n",
    "\n",
    "例：フライト数＝７　滑走路数＝２\n",
    "\n",
    "```\n",
    "x = [\n",
    "    [0, 2, 4, 6], # 滑走路0へ割り当て\n",
    "    [1, 3, 5]     # 滑走路1へ割り当て\n",
    "]\n",
    "```"
   ]
  },
  {
   "cell_type": "code",
   "execution_count": 17,
   "metadata": {
    "pycharm": {
     "name": "#%%\n"
    }
   },
   "outputs": [
    {
     "data": {
      "text/plain": [
       "209.5"
      ]
     },
     "execution_count": 17,
     "metadata": {},
     "output_type": "execute_result"
    }
   ],
   "source": [
    "x = np.arange(cf.num).reshape((3, 10))\n",
    "obj(x)\n"
   ]
  }
 ],
 "metadata": {
  "kernelspec": {
   "display_name": "atm",
   "language": "python",
   "name": "python3"
  },
  "language_info": {
   "codemirror_mode": {
    "name": "ipython",
    "version": 3
   },
   "file_extension": ".py",
   "mimetype": "text/x-python",
   "name": "python",
   "nbconvert_exporter": "python",
   "pygments_lexer": "ipython3",
   "version": "3.8.13"
  }
 },
 "nbformat": 4,
 "nbformat_minor": 2
}