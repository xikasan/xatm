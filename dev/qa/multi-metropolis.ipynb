{
 "cells": [
  {
   "cell_type": "code",
   "execution_count": 1,
   "outputs": [],
   "source": [
    "import numpy as np\n",
    "import dimod\n",
    "import pandas as pd\n",
    "import xtools as xt\n",
    "import matplotlib.pyplot as plt\n",
    "from openjij import SQASampler\n",
    "\n",
    "from IPython.display import clear_output"
   ],
   "metadata": {
    "collapsed": false,
    "pycharm": {
     "name": "#%%\n"
    }
   }
  },
  {
   "cell_type": "code",
   "execution_count": 2,
   "outputs": [],
   "source": [
    "from atm.flight.generator import ScenarioGenerator, Scenario\n",
    "from atm.separation import recat\n",
    "from atm.flight.flight import DUMMY_FLIGHT_RECAT\n",
    "from atm.optimizer.objective import *\n"
   ],
   "metadata": {
    "collapsed": false,
    "pycharm": {
     "name": "#%%\n"
    }
   }
  },
  {
   "cell_type": "code",
   "execution_count": 3,
   "outputs": [],
   "source": [
    "cf = xt.Config(dict(\n",
    "    dt=10,\n",
    "    num=30,\n",
    "    scenario=dict(\n",
    "        interval=60,\n",
    "        window=200,\n",
    "        mode=\"mix\",\n",
    "        standard=\"recat\"\n",
    "    )\n",
    "))\n"
   ],
   "metadata": {
    "collapsed": false,
    "pycharm": {
     "name": "#%%\n"
    }
   }
  },
  {
   "cell_type": "code",
   "execution_count": 4,
   "outputs": [],
   "source": [
    "gen = ScenarioGenerator(cf.scenario)"
   ],
   "metadata": {
    "collapsed": false,
    "pycharm": {
     "name": "#%%\n"
    }
   }
  },
  {
   "cell_type": "code",
   "execution_count": 5,
   "outputs": [],
   "source": [
    "sep = recat.TBS"
   ],
   "metadata": {
    "collapsed": false,
    "pycharm": {
     "name": "#%%\n"
    }
   }
  },
  {
   "cell_type": "code",
   "execution_count": 6,
   "outputs": [],
   "source": [
    "def calc_assign_time_for_single_runway(vols, separation, indices):\n",
    "    past_vol = DUMMY_FLIGHT_RECAT\n",
    "    past_time = DUMMY_FLIGHT_RECAT.ready\n",
    "\n",
    "    assigned_times = []\n",
    "    for idx in indices:\n",
    "        vol = vols[idx]\n",
    "        sep_time = separation(past_vol, vol)\n",
    "        time = np.max([vol.ready, past_time + sep_time])\n",
    "        assigned_times.append(time)\n",
    "\n",
    "        past_vol = vol\n",
    "        past_time = time\n",
    "\n",
    "    return assigned_times\n"
   ],
   "metadata": {
    "collapsed": false,
    "pycharm": {
     "name": "#%%\n"
    }
   }
  },
  {
   "cell_type": "code",
   "execution_count": 7,
   "outputs": [],
   "source": [
    "def get_obj_multiple_runway__(vols, separation, penalty):\n",
    "    def func(xs):\n",
    "        print(\"xs:\")\n",
    "        print(xs)\n",
    "        times = np.array([\n",
    "            calc_assign_time_for_single_runway(vols, separation, xs_)\n",
    "            for xs_ in xs\n",
    "        ])\n",
    "        readies = np.array([\n",
    "            [vols[x].ready for x in xs_]\n",
    "            for xs_ in xs\n",
    "        ])\n",
    "        dues = np.array([\n",
    "            [vols[x].due for x in xs_]\n",
    "            for xs_ in xs\n",
    "        ])\n",
    "\n",
    "        print(\"times:\", type(times), times)\n",
    "        print(\"ready:\", type(readies), readies)\n",
    "        delays = [times_ - readies_ for times_, readies_ in zip(times, readies)]\n",
    "        print(\"delays\")\n",
    "        delay = np.mean(delays)\n",
    "\n",
    "        overtimes = dues - times\n",
    "        is_overtimes = (overtimes < 0).astype(float)\n",
    "        overtime_penalty = np.sum(is_overtimes) * penalty\n",
    "\n",
    "        return delay + overtime_penalty\n",
    "    return func\n"
   ],
   "metadata": {
    "collapsed": false,
    "pycharm": {
     "name": "#%%\n"
    }
   }
  },
  {
   "cell_type": "code",
   "execution_count": 8,
   "outputs": [
    {
     "data": {
      "text/plain": "[array([0, 2, 4, 6, 8]), array([1, 3, 5, 7, 9])]"
     },
     "execution_count": 8,
     "metadata": {},
     "output_type": "execute_result"
    }
   ],
   "source": [
    "vols = gen(10)\n",
    "idxs = [\n",
    "    np.arange(len(vols) // 2) * 2,\n",
    "    np.arange(len(vols) // 2) * 2 + 1\n",
    "]\n",
    "idxs"
   ],
   "metadata": {
    "collapsed": false,
    "pycharm": {
     "name": "#%%\n"
    }
   }
  },
  {
   "cell_type": "code",
   "execution_count": 59,
   "outputs": [
    {
     "name": "stdout",
     "output_type": "stream",
     "text": [
      "x-sample:\n",
      "[[ 0  1  2  3  4  5  6  7  8  9 10 11 12 13 14 15 16 17 18 19 20 81 24 23\n",
      "  22 25 26 31 28 27 29 40 30 42 34 33 50 37 38 47 51 53 36 54 58 45 61 63\n",
      "  77 83 88 35 52 39 92 46 94 89 49 55 56 68 48 59 64 72 66 76 62 69 70 71\n",
      "  75 87 44 65 73 41 74 79 80 90 43 78 84 82 86 32 57 85 21 91 97 67 60 95\n",
      "  96 93 98 99]\n",
      " [ 0  3  1  0  2  1  0  0  2  3  0  0  0  3  1  1  3  1  3  1  0  2  1  3\n",
      "   0  3  0  3  0  1  1  0  0  0  3  1  0  3  1  1  1  0  3  0  0  3  0  0\n",
      "   0  0  0  1  1  2  0  3  0  2  3  3  3  0  1  1  1  3  1  0  1  1  3  1\n",
      "   3  0  1  0  3  2  1  3  1  2  1  0  3  1  3  2  2  1  2  1  0  3  3  2\n",
      "   2  3  3  0]]\n",
      "e: 22379.95 sec+\n",
      "p: 1.00000000\n",
      "- - - - - - - - - - - - - - - - - - - - \n",
      "before-step\n",
      "[[ 0  1  2  3  4  5  6  7  8  9 10 11 12 13 14 15 16 17 18 19 20 81 24 23\n",
      "  22 25 26 31 28 27 29 40 30 42 34 33 50 37 38 47 51 53 36 54 58 45 61 63\n",
      "  77 83 88 35 52 39 92 46 94 89 49 55 56 68 48 59 64 72 66 76 62 69 70 71\n",
      "  75 87 44 65 73 41 74 79 80 90 43 78 84 82 86 32 57 85 21 91 97 67 60 95\n",
      "  96 93 98 99]\n",
      " [ 0  3  1  0  2  1  0  0  2  3  0  0  0  3  1  1  3  1  3  1  0  2  1  3\n",
      "   0  3  0  3  0  1  1  0  0  0  3  1  0  3  1  1  1  0  3  0  0  3  0  0\n",
      "   0  0  0  1  1  2  0  3  0  2  3  3  3  0  1  1  1  3  1  0  1  1  3  1\n",
      "   3  0  1  0  3  2  1  3  1  2  1  0  3  1  3  2  2  1  2  1  0  3  3  2\n",
      "   2  3  3  0]]\n",
      "[info] swap position\n",
      "[info] remote-swap\n",
      "x-sample:\n",
      "[[ 0  1  2  3  4  5  6  7  8  9 10 11 12 13 14 15 16 17 20 19 18 81 24 23\n",
      "  22 25 26 31 28 27 29 40 30 42 34 33 50 37 38 47 51 53 36 54 58 45 61 63\n",
      "  77 83 88 35 52 39 92 46 94 89 49 55 56 68 48 59 64 72 66 76 62 69 70 71\n",
      "  75 87 44 65 73 41 74 79 80 90 43 78 84 82 86 32 57 85 21 91 97 67 60 95\n",
      "  96 93 98 99]\n",
      " [ 0  3  1  0  2  1  0  0  2  3  0  0  0  3  1  1  3  1  0  1  3  2  1  3\n",
      "   0  3  0  3  0  1  1  0  0  0  3  1  0  3  1  1  1  0  3  0  0  3  0  0\n",
      "   0  0  0  1  1  2  0  3  0  2  3  3  3  0  1  1  1  3  1  0  1  1  3  1\n",
      "   3  0  1  0  3  2  1  3  1  2  1  0  3  1  3  2  2  1  2  1  0  3  3  2\n",
      "   2  3  3  0]]\n",
      "e: 22379.95 sec+\n",
      "p: 1.00000000\n",
      "- - - - - - - - - - - - - - - - - - - - \n",
      "before-step\n",
      "[[ 0  1  2  3  4  5  6  7  8  9 10 11 12 13 14 15 16 17 18 19 20 81 24 23\n",
      "  22 25 26 31 28 27 29 40 30 42 34 33 50 37 38 47 51 53 36 54 58 45 61 63\n",
      "  77 83 88 35 52 39 92 46 94 89 49 55 56 68 48 59 64 72 66 76 62 69 70 71\n",
      "  75 87 44 65 73 41 74 79 80 90 43 78 84 82 86 32 57 85 21 91 97 67 60 95\n",
      "  96 93 98 99]\n",
      " [ 0  3  1  0  2  1  0  0  2  3  0  0  0  3  1  1  3  1  3  1  0  2  1  3\n",
      "   0  3  0  3  0  1  1  0  0  0  3  1  0  3  1  1  1  0  3  0  0  3  0  0\n",
      "   0  0  0  1  1  2  0  3  0  2  3  3  3  0  1  1  1  3  1  0  1  1  3  1\n",
      "   3  0  1  0  3  2  1  3  1  2  1  0  3  1  3  2  2  1  2  1  0  3  3  2\n",
      "   2  3  3  0]]\n",
      "[info] swap position\n",
      "[info] remote-swap\n",
      "x-sample:\n",
      "[[ 0  1  2  3  4  5  6  7  8  9 10 11 12 13 14 15 16 17 18 19 20 81 24 23\n",
      "  22 25 26 75 28 27 29 40 30 42 34 33 50 37 38 47 51 53 36 54 58 45 61 63\n",
      "  77 83 88 35 52 39 92 46 94 89 49 55 56 68 48 59 64 72 66 76 62 69 70 71\n",
      "  31 87 44 65 73 41 74 79 80 90 43 78 84 82 86 32 57 85 21 91 97 67 60 95\n",
      "  96 93 98 99]\n",
      " [ 0  3  1  0  2  1  0  0  2  3  0  0  0  3  1  1  3  1  3  1  0  2  1  3\n",
      "   0  3  0  3  0  1  1  0  0  0  3  1  0  3  1  1  1  0  3  0  0  3  0  0\n",
      "   0  0  0  1  1  2  0  3  0  2  3  3  3  0  1  1  1  3  1  0  1  1  3  1\n",
      "   3  0  1  0  3  2  1  3  1  2  1  0  3  1  3  2  2  1  2  1  0  3  3  2\n",
      "   2  3  3  0]]\n",
      "e: 38679.76 sec+\n",
      "p: 0.00000000\n",
      "- - - - - - - - - - - - - - - - - - - - \n",
      "before-step\n",
      "[[ 0  1  2  3  4  5  6  7  8  9 10 11 12 13 14 15 16 17 18 19 20 81 24 23\n",
      "  22 25 26 31 28 27 29 40 30 42 34 33 50 37 38 47 51 53 36 54 58 45 61 63\n",
      "  77 83 88 35 52 39 92 46 94 89 49 55 56 68 48 59 64 72 66 76 62 69 70 71\n",
      "  75 87 44 65 73 41 74 79 80 90 43 78 84 82 86 32 57 85 21 91 97 67 60 95\n",
      "  96 93 98 99]\n",
      " [ 0  3  1  0  2  1  0  0  2  3  0  0  0  3  1  1  3  1  3  1  0  2  1  3\n",
      "   0  3  0  3  0  1  1  0  0  0  3  1  0  3  1  1  1  0  3  0  0  3  0  0\n",
      "   0  0  0  1  1  2  0  3  0  2  3  3  3  0  1  1  1  3  1  0  1  1  3  1\n",
      "   3  0  1  0  3  2  1  3  1  2  1  0  3  1  3  2  2  1  2  1  0  3  3  2\n",
      "   2  3  3  0]]\n",
      "[info] swap position\n",
      "[info] remote-swap\n",
      "x-sample:\n",
      "[[ 0  1  2  3  4  5  6  7  8  9 10 11 12 13 14 15 16 17 18 19 20 81 24 23\n",
      "  22 25 26 31 28 27 29 40 30 42 34 33 50 37 38 47 51 53 36 54 58 45 61 63\n",
      "  77 83 88 35 52 39 92 46 94 89 49 21 56 68 48 59 64 72 66 76 62 69 70 71\n",
      "  75 87 44 65 73 41 74 79 80 90 43 78 84 82 86 32 57 85 55 91 97 67 60 95\n",
      "  96 93 98 99]\n",
      " [ 0  3  1  0  2  1  0  0  2  3  0  0  0  3  1  1  3  1  3  1  0  2  1  3\n",
      "   0  3  0  3  0  1  1  0  0  0  3  1  0  3  1  1  1  0  3  0  0  3  0  0\n",
      "   0  0  0  1  1  2  0  3  0  2  3  2  3  0  1  1  1  3  1  0  1  1  3  1\n",
      "   3  0  1  0  3  2  1  3  1  2  1  0  3  1  3  2  2  1  3  1  0  3  3  2\n",
      "   2  3  3  0]]\n",
      "e: 24400.20 sec+\n",
      "p: 0.00000000\n",
      "- - - - - - - - - - - - - - - - - - - - \n",
      "before-step\n",
      "[[ 0  1  2  3  4  5  6  7  8  9 10 11 12 13 14 15 16 17 18 19 20 81 24 23\n",
      "  22 25 26 31 28 27 29 40 30 42 34 33 50 37 38 47 51 53 36 54 58 45 61 63\n",
      "  77 83 88 35 52 39 92 46 94 89 49 55 56 68 48 59 64 72 66 76 62 69 70 71\n",
      "  75 87 44 65 73 41 74 79 80 90 43 78 84 82 86 32 57 85 21 91 97 67 60 95\n",
      "  96 93 98 99]\n",
      " [ 0  3  1  0  2  1  0  0  2  3  0  0  0  3  1  1  3  1  3  1  0  2  1  3\n",
      "   0  3  0  3  0  1  1  0  0  0  3  1  0  3  1  1  1  0  3  0  0  3  0  0\n",
      "   0  0  0  1  1  2  0  3  0  2  3  3  3  0  1  1  1  3  1  0  1  1  3  1\n",
      "   3  0  1  0  3  2  1  3  1  2  1  0  3  1  3  2  2  1  2  1  0  3  3  2\n",
      "   2  3  3  0]]\n",
      "[info] swap position\n",
      "[info] remote-swap\n",
      "x-sample:\n",
      "[[ 0  1  2  3  4  5  6 24  8  9 10 11 12 13 14 15 16 17 18 19 20 81  7 23\n",
      "  22 25 26 31 28 27 29 40 30 42 34 33 50 37 38 47 51 53 36 54 58 45 61 63\n",
      "  77 83 88 35 52 39 92 46 94 89 49 55 56 68 48 59 64 72 66 76 62 69 70 71\n",
      "  75 87 44 65 73 41 74 79 80 90 43 78 84 82 86 32 57 85 21 91 97 67 60 95\n",
      "  96 93 98 99]\n",
      " [ 0  3  1  0  2  1  0  1  2  3  0  0  0  3  1  1  3  1  3  1  0  2  0  3\n",
      "   0  3  0  3  0  1  1  0  0  0  3  1  0  3  1  1  1  0  3  0  0  3  0  0\n",
      "   0  0  0  1  1  2  0  3  0  2  3  3  3  0  1  1  1  3  1  0  1  1  3  1\n",
      "   3  0  1  0  3  2  1  3  1  2  1  0  3  1  3  2  2  1  2  1  0  3  3  2\n",
      "   2  3  3  0]]\n",
      "e: 30430.82 sec+\n",
      "p: 0.00000000\n",
      "- - - - - - - - - - - - - - - - - - - - \n",
      "before-step\n",
      "[[ 0  1  2  3  4  5  6  7  8  9 10 11 12 13 14 15 16 17 18 19 20 81 24 23\n",
      "  22 25 26 31 28 27 29 40 30 42 34 33 50 37 38 47 51 53 36 54 58 45 61 63\n",
      "  77 83 88 35 52 39 92 46 94 89 49 55 56 68 48 59 64 72 66 76 62 69 70 71\n",
      "  75 87 44 65 73 41 74 79 80 90 43 78 84 82 86 32 57 85 21 91 97 67 60 95\n",
      "  96 93 98 99]\n",
      " [ 0  3  1  0  2  1  0  0  2  3  0  0  0  3  1  1  3  1  3  1  0  2  1  3\n",
      "   0  3  0  3  0  1  1  0  0  0  3  1  0  3  1  1  1  0  3  0  0  3  0  0\n",
      "   0  0  0  1  1  2  0  3  0  2  3  3  3  0  1  1  1  3  1  0  1  1  3  1\n",
      "   3  0  1  0  3  2  1  3  1  2  1  0  3  1  3  2  2  1  2  1  0  3  3  2\n",
      "   2  3  3  0]]\n",
      "[info] swap position\n",
      "[info] remote-swap\n",
      "x-sample:\n",
      "[[ 0  1  2  3  4  5  6  7  8  9 10 11 12 13 14 15 16 17 18 19 20 81 24 23\n",
      "  22 25 26 31 28 27 29 40 30 42 34 33 50 37 38 47 51 53 36 54 58 45 61 63\n",
      "  77 83 88 35 52 39 92 46 94 89 49 55 56 68 48 59 64 72 66 76 62 44 70 71\n",
      "  75 87 69 65 73 41 74 79 80 90 43 78 84 82 86 32 57 85 21 91 97 67 60 95\n",
      "  96 93 98 99]\n",
      " [ 0  3  1  0  2  1  0  0  2  3  0  0  0  3  1  1  3  1  3  1  0  2  1  3\n",
      "   0  3  0  3  0  1  1  0  0  0  3  1  0  3  1  1  1  0  3  0  0  3  0  0\n",
      "   0  0  0  1  1  2  0  3  0  2  3  3  3  0  1  1  1  3  1  0  1  1  3  1\n",
      "   3  0  1  0  3  2  1  3  1  2  1  0  3  1  3  2  2  1  2  1  0  3  3  2\n",
      "   2  3  3  0]]\n",
      "e: 23376.92 sec+\n",
      "p: 0.00000000\n",
      "- - - - - - - - - - - - - - - - - - - - \n",
      "before-step\n",
      "[[ 0  1  2  3  4  5  6  7  8  9 10 11 12 13 14 15 16 17 18 19 20 81 24 23\n",
      "  22 25 26 31 28 27 29 40 30 42 34 33 50 37 38 47 51 53 36 54 58 45 61 63\n",
      "  77 83 88 35 52 39 92 46 94 89 49 55 56 68 48 59 64 72 66 76 62 69 70 71\n",
      "  75 87 44 65 73 41 74 79 80 90 43 78 84 82 86 32 57 85 21 91 97 67 60 95\n",
      "  96 93 98 99]\n",
      " [ 0  3  1  0  2  1  0  0  2  3  0  0  0  3  1  1  3  1  3  1  0  2  1  3\n",
      "   0  3  0  3  0  1  1  0  0  0  3  1  0  3  1  1  1  0  3  0  0  3  0  0\n",
      "   0  0  0  1  1  2  0  3  0  2  3  3  3  0  1  1  1  3  1  0  1  1  3  1\n",
      "   3  0  1  0  3  2  1  3  1  2  1  0  3  1  3  2  2  1  2  1  0  3  3  2\n",
      "   2  3  3  0]]\n",
      "[info] swap position\n",
      "[info] remote-swap\n",
      "x-sample:\n",
      "[[ 0  1  2  3  4  5  6  7  8  9 10 11 12 13 14 15 16 17 18 19 20 81 24 23\n",
      "  22 25 26 31 28 27 29 40 30 42 34 33 50 37 38 47 51 53 36 54 58 45 61 63\n",
      "  77 83 88 35 52 39 92 46 94 89 49 55 56 68 48 59 64 72 66 76 62 69 70 71\n",
      "  75 87 44 65 73 41 74 79 80 90 43 78 84 82 86 32 98 85 21 91 97 67 60 95\n",
      "  96 93 57 99]\n",
      " [ 0  3  1  0  2  1  0  0  2  3  0  0  0  3  1  1  3  1  3  1  0  2  1  3\n",
      "   0  3  0  3  0  1  1  0  0  0  3  1  0  3  1  1  1  0  3  0  0  3  0  0\n",
      "   0  0  0  1  1  2  0  3  0  2  3  3  3  0  1  1  1  3  1  0  1  1  3  1\n",
      "   3  0  1  0  3  2  1  3  1  2  1  0  3  1  3  2  3  1  2  1  0  3  3  2\n",
      "   2  3  2  0]]\n",
      "e: 23412.75 sec+\n",
      "p: 0.00000000\n",
      "- - - - - - - - - - - - - - - - - - - - \n",
      "before-step\n",
      "[[ 0  1  2  3  4  5  6  7  8  9 10 11 12 13 14 15 16 17 18 19 20 81 24 23\n",
      "  22 25 26 31 28 27 29 40 30 42 34 33 50 37 38 47 51 53 36 54 58 45 61 63\n",
      "  77 83 88 35 52 39 92 46 94 89 49 55 56 68 48 59 64 72 66 76 62 69 70 71\n",
      "  75 87 44 65 73 41 74 79 80 90 43 78 84 82 86 32 57 85 21 91 97 67 60 95\n",
      "  96 93 98 99]\n",
      " [ 0  3  1  0  2  1  0  0  2  3  0  0  0  3  1  1  3  1  3  1  0  2  1  3\n",
      "   0  3  0  3  0  1  1  0  0  0  3  1  0  3  1  1  1  0  3  0  0  3  0  0\n",
      "   0  0  0  1  1  2  0  3  0  2  3  3  3  0  1  1  1  3  1  0  1  1  3  1\n",
      "   3  0  1  0  3  2  1  3  1  2  1  0  3  1  3  2  2  1  2  1  0  3  3  2\n",
      "   2  3  3  0]]\n",
      "[info] swap position\n",
      "[info] remote-swap\n",
      "x-sample:\n",
      "[[ 0  1  2  3  4  5  6  7  8  9 10 11 12 13 14 15 16 17 18 19 20 81 24 23\n",
      "  22 25 26 31 82 27 29 40 30 42 34 33 50 37 38 47 51 53 36 54 58 45 61 63\n",
      "  77 83 88 35 52 39 92 46 94 89 49 55 56 68 48 59 64 72 66 76 62 69 70 71\n",
      "  75 87 44 65 73 41 74 79 80 90 43 78 84 28 86 32 57 85 21 91 97 67 60 95\n",
      "  96 93 98 99]\n",
      " [ 0  3  1  0  2  1  0  0  2  3  0  0  0  3  1  1  3  1  3  1  0  2  1  3\n",
      "   0  3  0  3  1  1  1  0  0  0  3  1  0  3  1  1  1  0  3  0  0  3  0  0\n",
      "   0  0  0  1  1  2  0  3  0  2  3  3  3  0  1  1  1  3  1  0  1  1  3  1\n",
      "   3  0  1  0  3  2  1  3  1  2  1  0  3  0  3  2  2  1  2  1  0  3  3  2\n",
      "   2  3  3  0]]\n",
      "e: 38906.54 sec+\n",
      "p: 0.00000000\n",
      "- - - - - - - - - - - - - - - - - - - - \n",
      "before-step\n",
      "[[ 0  1  2  3  4  5  6  7  8  9 10 11 12 13 14 15 16 17 18 19 20 81 24 23\n",
      "  22 25 26 31 28 27 29 40 30 42 34 33 50 37 38 47 51 53 36 54 58 45 61 63\n",
      "  77 83 88 35 52 39 92 46 94 89 49 55 56 68 48 59 64 72 66 76 62 69 70 71\n",
      "  75 87 44 65 73 41 74 79 80 90 43 78 84 82 86 32 57 85 21 91 97 67 60 95\n",
      "  96 93 98 99]\n",
      " [ 0  3  1  0  2  1  0  0  2  3  0  0  0  3  1  1  3  1  3  1  0  2  1  3\n",
      "   0  3  0  3  0  1  1  0  0  0  3  1  0  3  1  1  1  0  3  0  0  3  0  0\n",
      "   0  0  0  1  1  2  0  3  0  2  3  3  3  0  1  1  1  3  1  0  1  1  3  1\n",
      "   3  0  1  0  3  2  1  3  1  2  1  0  3  1  3  2  2  1  2  1  0  3  3  2\n",
      "   2  3  3  0]]\n",
      "[info] change queue\n",
      "x-sample:\n",
      "[[ 0  1  2  3  4  5  6  7  8  9 10 11 12 13 14 15 16 17 18 19 20 81 24 23\n",
      "  22 25 26 31 28 27 29 40 30 42 34 33 50 37 38 47 51 53 36 54 58 45 61 63\n",
      "  77 83 88 35 52 39 92 46 94 89 49 55 56 68 48 59 64 72 66 76 62 69 70 71\n",
      "  75 87 44 65 73 41 74 79 80 90 43 78 84 82 86 32 57 85 21 91 97 67 60 95\n",
      "  96 93 98 99]\n",
      " [ 0  3  1  0  2  1  0  0  2  3  0  0  0  3  1  1  3  1  3  1  0  2  3  3\n",
      "   0  3  0  3  0  1  1  0  0  0  3  1  0  3  1  1  1  0  3  0  0  3  0  0\n",
      "   0  0  0  1  1  2  0  3  0  2  3  3  3  0  1  1  1  3  1  0  1  1  3  1\n",
      "   3  0  1  0  3  2  1  3  1  2  1  0  3  1  3  2  2  1  2  1  0  3  3  2\n",
      "   2  3  3  0]]\n",
      "e: 23383.80 sec+\n",
      "p: 0.00000000\n",
      "- - - - - - - - - - - - - - - - - - - - \n",
      "before-step\n",
      "[[ 0  1  2  3  4  5  6  7  8  9 10 11 12 13 14 15 16 17 18 19 20 81 24 23\n",
      "  22 25 26 31 28 27 29 40 30 42 34 33 50 37 38 47 51 53 36 54 58 45 61 63\n",
      "  77 83 88 35 52 39 92 46 94 89 49 55 56 68 48 59 64 72 66 76 62 69 70 71\n",
      "  75 87 44 65 73 41 74 79 80 90 43 78 84 82 86 32 57 85 21 91 97 67 60 95\n",
      "  96 93 98 99]\n",
      " [ 0  3  1  0  2  1  0  0  2  3  0  0  0  3  1  1  3  1  3  1  0  2  1  3\n",
      "   0  3  0  3  0  1  1  0  0  0  3  1  0  3  1  1  1  0  3  0  0  3  0  0\n",
      "   0  0  0  1  1  2  0  3  0  2  3  3  3  0  1  1  1  3  1  0  1  1  3  1\n",
      "   3  0  1  0  3  2  1  3  1  2  1  0  3  1  3  2  2  1  2  1  0  3  3  2\n",
      "   2  3  3  0]]\n",
      "[info] change queue\n",
      "x-sample:\n",
      "[[ 0  1  2  3  4  5  6  7  8  9 10 11 12 13 14 15 16 17 18 19 20 81 24 23\n",
      "  22 25 26 31 28 27 29 40 30 42 34 33 50 37 38 47 51 53 36 54 58 45 61 63\n",
      "  77 83 88 35 52 39 92 46 94 89 49 55 56 68 48 59 64 72 66 76 62 69 70 71\n",
      "  75 87 44 65 73 41 74 79 80 90 43 78 84 82 86 32 57 85 21 91 97 67 60 95\n",
      "  96 93 98 99]\n",
      " [ 0  3  1  0  2  1  0  0  2  3  0  0  0  2  1  1  3  1  3  1  0  2  1  3\n",
      "   0  3  0  3  0  1  1  0  0  0  3  1  0  3  1  1  1  0  3  0  0  3  0  0\n",
      "   0  0  0  1  1  2  0  3  0  2  3  3  3  0  1  1  1  3  1  0  1  1  3  1\n",
      "   3  0  1  0  3  2  1  3  1  2  1  0  3  1  3  2  2  1  2  1  0  3  3  2\n",
      "   2  3  3  0]]\n",
      "e: 22379.95 sec+\n",
      "p: 1.00000000\n",
      "- - - - - - - - - - - - - - - - - - - - \n",
      "before-step\n",
      "[[ 0  1  2  3  4  5  6  7  8  9 10 11 12 13 14 15 16 17 18 19 20 81 24 23\n",
      "  22 25 26 31 28 27 29 40 30 42 34 33 50 37 38 47 51 53 36 54 58 45 61 63\n",
      "  77 83 88 35 52 39 92 46 94 89 49 55 56 68 48 59 64 72 66 76 62 69 70 71\n",
      "  75 87 44 65 73 41 74 79 80 90 43 78 84 82 86 32 57 85 21 91 97 67 60 95\n",
      "  96 93 98 99]\n",
      " [ 0  3  1  0  2  1  0  0  2  3  0  0  0  3  1  1  3  1  3  1  0  2  1  3\n",
      "   0  3  0  3  0  1  1  0  0  0  3  1  0  3  1  1  1  0  3  0  0  3  0  0\n",
      "   0  0  0  1  1  2  0  3  0  2  3  3  3  0  1  1  1  3  1  0  1  1  3  1\n",
      "   3  0  1  0  3  2  1  3  1  2  1  0  3  1  3  2  2  1  2  1  0  3  3  2\n",
      "   2  3  3  0]]\n",
      "[info] swap position\n",
      "[info] remote-swap\n",
      "x-sample:\n",
      "[[ 0  1  2  3  4  5  6  7  8  9 10 11 12 13 14 85 16 17 18 19 20 81 24 23\n",
      "  22 25 26 31 28 27 29 40 30 42 34 33 50 37 38 47 51 53 36 54 58 45 61 63\n",
      "  77 83 88 35 52 39 92 46 94 89 49 55 56 68 48 59 64 72 66 76 62 69 70 71\n",
      "  75 87 44 65 73 41 74 79 80 90 43 78 84 82 86 32 57 15 21 91 97 67 60 95\n",
      "  96 93 98 99]\n",
      " [ 0  3  1  0  2  1  0  0  2  3  0  0  0  3  1  1  3  1  3  1  0  2  1  3\n",
      "   0  3  0  3  0  1  1  0  0  0  3  1  0  3  1  1  1  0  3  0  0  3  0  0\n",
      "   0  0  0  1  1  2  0  3  0  2  3  3  3  0  1  1  1  3  1  0  1  1  3  1\n",
      "   3  0  1  0  3  2  1  3  1  2  1  0  3  1  3  2  2  1  2  1  0  3  3  2\n",
      "   2  3  3  0]]\n",
      "e: 42186.65 sec+\n",
      "p: 0.00000000\n",
      "- - - - - - - - - - - - - - - - - - - - \n",
      "before-step\n",
      "[[ 0  1  2  3  4  5  6  7  8  9 10 11 12 13 14 15 16 17 18 19 20 81 24 23\n",
      "  22 25 26 31 28 27 29 40 30 42 34 33 50 37 38 47 51 53 36 54 58 45 61 63\n",
      "  77 83 88 35 52 39 92 46 94 89 49 55 56 68 48 59 64 72 66 76 62 69 70 71\n",
      "  75 87 44 65 73 41 74 79 80 90 43 78 84 82 86 32 57 85 21 91 97 67 60 95\n",
      "  96 93 98 99]\n",
      " [ 0  3  1  0  2  1  0  0  2  3  0  0  0  3  1  1  3  1  3  1  0  2  1  3\n",
      "   0  3  0  3  0  1  1  0  0  0  3  1  0  3  1  1  1  0  3  0  0  3  0  0\n",
      "   0  0  0  1  1  2  0  3  0  2  3  3  3  0  1  1  1  3  1  0  1  1  3  1\n",
      "   3  0  1  0  3  2  1  3  1  2  1  0  3  1  3  2  2  1  2  1  0  3  3  2\n",
      "   2  3  3  0]]\n",
      "[info] change queue\n",
      "x-sample:\n",
      "[[ 0  1  2  3  4  5  6  7  8  9 10 11 12 13 14 15 16 17 18 19 20 81 24 23\n",
      "  22 25 26 31 28 27 29 40 30 42 34 33 50 37 38 47 51 53 36 54 58 45 61 63\n",
      "  77 83 88 35 52 39 92 46 94 89 49 55 56 68 48 59 64 72 66 76 62 69 70 71\n",
      "  75 87 44 65 73 41 74 79 80 90 43 78 84 82 86 32 57 85 21 91 97 67 60 95\n",
      "  96 93 98 99]\n",
      " [ 0  3  1  0  2  1  0  0  2  3  0  0  0  3  1  1  3  1  3  1  0  2  1  3\n",
      "   0  3  0  3  0  1  1  0  0  0  3  1  0  3  1  1  1  0  3  0  0  3  0  0\n",
      "   0  0  0  1  1  2  0  3  0  2  3  3  3  0  1  1  1  3  1  0  1  1  1  1\n",
      "   3  0  1  0  3  2  1  3  1  2  1  0  3  1  3  2  2  1  2  1  0  3  3  2\n",
      "   2  3  3  0]]\n",
      "e: 24383.68 sec+\n",
      "p: 0.00000000\n",
      "- - - - - - - - - - - - - - - - - - - - \n",
      "before-step\n",
      "[[ 0  1  2  3  4  5  6  7  8  9 10 11 12 13 14 15 16 17 18 19 20 81 24 23\n",
      "  22 25 26 31 28 27 29 40 30 42 34 33 50 37 38 47 51 53 36 54 58 45 61 63\n",
      "  77 83 88 35 52 39 92 46 94 89 49 55 56 68 48 59 64 72 66 76 62 69 70 71\n",
      "  75 87 44 65 73 41 74 79 80 90 43 78 84 82 86 32 57 85 21 91 97 67 60 95\n",
      "  96 93 98 99]\n",
      " [ 0  3  1  0  2  1  0  0  2  3  0  0  0  3  1  1  3  1  3  1  0  2  1  3\n",
      "   0  3  0  3  0  1  1  0  0  0  3  1  0  3  1  1  1  0  3  0  0  3  0  0\n",
      "   0  0  0  1  1  2  0  3  0  2  3  3  3  0  1  1  1  3  1  0  1  1  3  1\n",
      "   3  0  1  0  3  2  1  3  1  2  1  0  3  1  3  2  2  1  2  1  0  3  3  2\n",
      "   2  3  3  0]]\n",
      "[info] swap position\n",
      "[info] remote-swap\n",
      "x-sample:\n",
      "[[ 0  1 97  3  4  5  6  7  8  9 10 11 12 13 14 15 16 17 18 19 20 81 24 23\n",
      "  22 25 26 31 28 27 29 40 30 42 34 33 50 37 38 47 51 53 36 54 58 45 61 63\n",
      "  77 83 88 35 52 39 92 46 94 89 49 55 56 68 48 59 64 72 66 76 62 69 70 71\n",
      "  75 87 44 65 73 41 74 79 80 90 43 78 84 82 86 32 57 85 21 91  2 67 60 95\n",
      "  96 93 98 99]\n",
      " [ 0  3  0  0  2  1  0  0  2  3  0  0  0  3  1  1  3  1  3  1  0  2  1  3\n",
      "   0  3  0  3  0  1  1  0  0  0  3  1  0  3  1  1  1  0  3  0  0  3  0  0\n",
      "   0  0  0  1  1  2  0  3  0  2  3  3  3  0  1  1  1  3  1  0  1  1  3  1\n",
      "   3  0  1  0  3  2  1  3  1  2  1  0  3  1  3  2  2  1  2  1  1  3  3  2\n",
      "   2  3  3  0]]\n",
      "e: 46765.86 sec+\n",
      "p: 0.00000000\n",
      "=-=-=-=-=-=-=-=-=-=-=-=-=-=-=-=-=-=-=-=-\n",
      "[solution]\n",
      "x:\n",
      "[[ 0  1  2  3  4  5  6  7  8  9 10 11 12 13 14 15 16 17 18 19 20 81 24 23\n",
      "  22 25 26 31 28 27 29 40 30 42 34 33 50 37 38 47 51 53 36 54 58 45 61 63\n",
      "  77 83 88 35 52 39 92 46 94 89 49 55 56 68 48 59 64 72 66 76 62 69 70 71\n",
      "  75 87 44 65 73 41 74 79 80 90 43 78 84 82 86 32 57 85 21 91 97 67 60 95\n",
      "  96 93 98 99]\n",
      " [ 0  3  1  0  2  1  0  0  2  3  0  0  0  3  1  1  3  1  3  1  0  2  1  3\n",
      "   0  3  0  3  0  1  1  0  0  0  3  1  0  3  1  1  1  0  3  0  0  3  0  0\n",
      "   0  0  0  1  1  2  0  3  0  2  3  3  3  0  1  1  1  3  1  0  1  1  3  1\n",
      "   3  0  1  0  3  2  1  3  1  2  1  0  3  1  3  2  2  1  2  1  0  3  3  2\n",
      "   2  3  3  0]]\n",
      "f(x): 22379.950\n"
     ]
    },
    {
     "data": {
      "text/plain": "<Figure size 432x288 with 1 Axes>",
      "image/png": "[encoded data removed]"
     },
     "metadata": {
      "needs_background": "light"
     },
     "output_type": "display_data"
    }
   ],
   "source": [
    "class MultiSequenceMetropolis:\n",
    "\n",
    "    def __init__(self, objective, num_item, num_queue, T=1., swap_remote=False, seed=None, on_notebook=False):\n",
    "        self.obj = objective\n",
    "        self.nx = num_item\n",
    "        self.nq = num_queue\n",
    "        self.T = T\n",
    "        self._swap_remote = swap_remote\n",
    "        self.rs = None\n",
    "        self.seed_value = self.seed(seed)\n",
    "        self.on_notebook = on_notebook\n",
    "\n",
    "        self.prob_swap_queue = 0.2\n",
    "\n",
    "        self.ec = None\n",
    "        self.best_x = None\n",
    "\n",
    "    def seed(self, seed=None):\n",
    "        self.rs = np.random.RandomState(seed)\n",
    "        return seed\n",
    "\n",
    "    def sample(self, x):\n",
    "        x_ = x.copy()\n",
    "\n",
    "        if self.prob_swap_queue >= self.rs.rand():\n",
    "            print(\"[info] change queue\")\n",
    "            iter = self.rs.randint(self.nx - 1)\n",
    "            x_[1, iter] = self.rs.choice([\n",
    "                i for i in range(self.nq) if not i == x_[1, iter]\n",
    "            ], 1)\n",
    "            return x_\n",
    "        else:\n",
    "            print(\"[info] swap position\")\n",
    "            if self._swap_remote:\n",
    "                print(\"[info] remote-swap\")\n",
    "                ixs = self.rs.choice(np.arange(self.nx), 2, replace=False)\n",
    "                x_[:, ixs] = x[:, ixs[::-1]]\n",
    "                return x_\n",
    "            else:\n",
    "                print(\"[info] swap-adjacent\")\n",
    "                iter = self.rs.randint(self.nx-1)\n",
    "                x_[:, iter:iter+2] = x[:, iter:iter+2][:, ::-1]\n",
    "                return x_\n",
    "\n",
    "        return x_\n",
    "\n",
    "    def step(self, xc):\n",
    "        pass\n",
    "\n",
    "    def accept_prob(self, ec, ep):\n",
    "        de = ep - ec\n",
    "        if de < 0:\n",
    "            return 1\n",
    "        r = np.exp(-de / self.T)\n",
    "        return np.min([1, r])\n",
    "\n",
    "    def f(self, x):\n",
    "        qxs = [\n",
    "            x[0, x[1,] == q]\n",
    "            for q in range(self.nq)\n",
    "        ]\n",
    "        es = self.obj(qxs)\n",
    "        return es\n",
    "\n",
    "    def optimize(self, x0=None, num_iter=10):\n",
    "        xc = x0 if x0 is not None else self.generate_base_x()\n",
    "        self.ec = self.f(xc)\n",
    "        pass\n",
    "\n",
    "    @staticmethod\n",
    "    def generate_base_x():\n",
    "        return np.vstack([\n",
    "            np.arange(len(vols)),\n",
    "            np.zeros(len(vols))\n",
    "        ]).astype(int)\n",
    "\n",
    "\n",
    "def get_obj_multiple_runway(scenario: Scenario, separation: Separation, penalty_coef: float = 1.0) -> Callable:\n",
    "    def func(xs):\n",
    "        times = calc_assign_time_for_multi_runway(xs, scenario, separation)\n",
    "        delays = calc_delay_for_multi_runway(xs, times, scenario)\n",
    "        dues = get_due_for_multi_runway(xs, scenario)\n",
    "        is_overtimes = check_over_time_for_multi_runway(times, dues)\n",
    "        num_overtime = count_num_overtime(is_overtimes)\n",
    "\n",
    "        return np.mean(np.concatenate(delays)).astype(float) + penalty_coef * num_overtime\n",
    "    return func\n",
    "\n",
    "\n",
    "vols = gen(100)\n",
    "num_runway = 4\n",
    "\n",
    "# algo = MultiSequenceMetropolis(get_obj_multiple_runway(vols, sep, 1000), len(vols), num_runway)\n",
    "algo = MultiSequenceMetropolis(get_obj_multiple_runway(vols, sep, 1000), len(vols), num_runway, swap_remote=True)\n",
    "# xsample = np.vstack([\n",
    "#     np.arange(len(vols)),\n",
    "#     np.zeros(len(vols))  # np.random.choice(np.arange(2), len(vols), replace=True)\n",
    "# ]).astype(int)\n",
    "xc = algo.generate_base_x()\n",
    "print(\"xsample:\")\n",
    "print(xc)\n",
    "print(\"- - - - - - - - - -\")\n",
    "ec = algo.f(xc)\n",
    "print(\"f(xs) = {:7.2f} sec+\".format(ec))\n",
    "# algo.sample()\n",
    "\n",
    "log_e = [ec]\n",
    "\n",
    "clear_output()\n",
    "\n",
    "for i in range(1000):\n",
    "    print(\"- \" * 20)\n",
    "    print(\"before-step\")\n",
    "    print(xc)\n",
    "    xp = algo.sample(xc)\n",
    "    ep = algo.f(xp)\n",
    "    r = algo.accept_prob(ec, ep)\n",
    "    # if r > algo.rs.rand():\n",
    "    if ep < ec:\n",
    "        xc = xp\n",
    "        ec = ep\n",
    "        clear_output()\n",
    "        plt.plot(log_e)\n",
    "\n",
    "    log_e.append(ec)\n",
    "    print(\"x-sample:\")\n",
    "    print(xp)\n",
    "    print(\"e: {:7.2f} sec+\".format(ep))\n",
    "    print(\"p: {:10.8f}\".format(r))\n",
    "\n",
    "print(\"=-\"*20)\n",
    "print(\"[solution]\")\n",
    "print(\"x:\")\n",
    "print(xc)\n",
    "print(\"f(x): {:7.3f}\".format(ec))\n",
    "\n",
    "plt.plot(log_e)\n",
    "plt.show()"
   ],
   "metadata": {
    "collapsed": false,
    "pycharm": {
     "name": "#%%\n"
    }
   }
  },
  {
   "cell_type": "code",
   "execution_count": 60,
   "outputs": [],
   "source": [
    "log_es_sw.append(log_e)"
   ],
   "metadata": {
    "collapsed": false,
    "pycharm": {
     "name": "#%%\n"
    }
   }
  },
  {
   "cell_type": "code",
   "execution_count": 61,
   "outputs": [
    {
     "data": {
      "text/plain": "5"
     },
     "execution_count": 61,
     "metadata": {},
     "output_type": "execute_result"
    }
   ],
   "source": [
    "len(log_es_sw)"
   ],
   "metadata": {
    "collapsed": false,
    "pycharm": {
     "name": "#%%\n"
    }
   }
  },
  {
   "cell_type": "code",
   "execution_count": 11,
   "outputs": [],
   "source": [
    "log_es = []"
   ],
   "metadata": {
    "collapsed": false,
    "pycharm": {
     "name": "#%%\n"
    }
   }
  },
  {
   "cell_type": "code",
   "execution_count": 26,
   "outputs": [],
   "source": [
    "import pandas as pd"
   ],
   "metadata": {
    "collapsed": false,
    "pycharm": {
     "name": "#%%\n"
    }
   }
  },
  {
   "cell_type": "code",
   "execution_count": 70,
   "outputs": [
    {
     "data": {
      "text/plain": "      step\n0        0\n1        1\n2        2\n3        3\n4        4\n...    ...\n996    996\n997    997\n998    998\n999    999\n1000  1000\n\n[1001 rows x 1 columns]",
      "text/html": "<div>\n<style scoped>\n    .dataframe tbody tr th:only-of-type {\n        vertical-align: middle;\n    }\n\n    .dataframe tbody tr th {\n        vertical-align: top;\n    }\n\n    .dataframe thead th {\n        text-align: right;\n    }\n</style>\n<table border=\"1\" class=\"dataframe\">\n  <thead>\n    <tr style=\"text-align: right;\">\n      <th></th>\n      <th>step</th>\n    </tr>\n  </thead>\n  <tbody>\n    <tr>\n      <th>0</th>\n      <td>0</td>\n    </tr>\n    <tr>\n      <th>1</th>\n      <td>1</td>\n    </tr>\n    <tr>\n      <th>2</th>\n      <td>2</td>\n    </tr>\n    <tr>\n      <th>3</th>\n      <td>3</td>\n    </tr>\n    <tr>\n      <th>4</th>\n      <td>4</td>\n    </tr>\n    <tr>\n      <th>...</th>\n      <td>...</td>\n    </tr>\n    <tr>\n      <th>996</th>\n      <td>996</td>\n    </tr>\n    <tr>\n      <th>997</th>\n      <td>997</td>\n    </tr>\n    <tr>\n      <th>998</th>\n      <td>998</td>\n    </tr>\n    <tr>\n      <th>999</th>\n      <td>999</td>\n    </tr>\n    <tr>\n      <th>1000</th>\n      <td>1000</td>\n    </tr>\n  </tbody>\n</table>\n<p>1001 rows × 1 columns</p>\n</div>"
     },
     "execution_count": 70,
     "metadata": {},
     "output_type": "execute_result"
    }
   ],
   "source": [
    "logplot_sw = pd.DataFrame(dict(step=np.arange(len(log_e))))\n",
    "logplot_sw"
   ],
   "metadata": {
    "collapsed": false,
    "pycharm": {
     "name": "#%%\n"
    }
   }
  },
  {
   "cell_type": "code",
   "execution_count": 71,
   "outputs": [],
   "source": [
    "for i in range(len(log_es)):\n",
    "    logplot_sw[f\"iter-{i}\"] = log_es_sw[i]"
   ],
   "metadata": {
    "collapsed": false,
    "pycharm": {
     "name": "#%%\n"
    }
   }
  },
  {
   "cell_type": "code",
   "execution_count": 72,
   "outputs": [],
   "source": [
    "logplot_sw[\"min\"] = logplot_sw[[f\"iter-{i}\" for i in range(5)]].min(axis=1)\n",
    "logplot_sw[\"max\"] = logplot_sw[[f\"iter-{i}\" for i in range(5)]].max(axis=1)\n",
    "logplot_sw[\"ave\"] = logplot_sw[[f\"iter-{i}\" for i in range(5)]].mean(axis=1)"
   ],
   "metadata": {
    "collapsed": false,
    "pycharm": {
     "name": "#%%\n"
    }
   }
  },
  {
   "cell_type": "code",
   "execution_count": 73,
   "outputs": [
    {
     "data": {
      "text/plain": "      step    iter-0    iter-1    iter-2     iter-3    iter-4       min  \\\n0        0  96308.42  99543.74  98401.31  100428.03  96709.15  96308.42   \n1        1  95579.58  99543.74  98383.69   99367.76  96709.15  95579.58   \n2        2  94972.72  99514.14  98375.56   99367.56  96709.15  94972.72   \n3        3  93954.14  99514.14  98375.56   99367.56  95658.45  93954.14   \n4        4  93954.14  99513.40  97313.25   98280.62  95658.45  93954.14   \n...    ...       ...       ...       ...        ...       ...       ...   \n996    996  31607.14  37694.36  39771.91   27509.15  22379.95  22379.95   \n997    997  31607.14  37694.36  39771.91   27509.15  22379.95  22379.95   \n998    998  31607.14  37694.36  39769.60   27509.15  22379.95  22379.95   \n999    999  31607.14  37694.36  39769.60   27509.15  22379.95  22379.95   \n1000  1000  31607.14  37694.36  39769.60   27509.15  22379.95  22379.95   \n\n            max        ave  \n0     100428.03  98278.130  \n1      99543.74  97916.784  \n2      99514.14  97787.826  \n3      99514.14  97373.970  \n4      99513.40  96943.972  \n...         ...        ...  \n996    39771.91  31792.502  \n997    39771.91  31792.502  \n998    39769.60  31792.040  \n999    39769.60  31792.040  \n1000   39769.60  31792.040  \n\n[1001 rows x 9 columns]",
      "text/html": "<div>\n<style scoped>\n    .dataframe tbody tr th:only-of-type {\n        vertical-align: middle;\n    }\n\n    .dataframe tbody tr th {\n        vertical-align: top;\n    }\n\n    .dataframe thead th {\n        text-align: right;\n    }\n</style>\n<table border=\"1\" class=\"dataframe\">\n  <thead>\n    <tr style=\"text-align: right;\">\n      <th></th>\n      <th>step</th>\n      <th>iter-0</th>\n      <th>iter-1</th>\n      <th>iter-2</th>\n      <th>iter-3</th>\n      <th>iter-4</th>\n      <th>min</th>\n      <th>max</th>\n      <th>ave</th>\n    </tr>\n  </thead>\n  <tbody>\n    <tr>\n      <th>0</th>\n      <td>0</td>\n      <td>96308.42</td>\n      <td>99543.74</td>\n      <td>98401.31</td>\n      <td>100428.03</td>\n      <td>96709.15</td>\n      <td>96308.42</td>\n      <td>100428.03</td>\n      <td>98278.130</td>\n    </tr>\n    <tr>\n      <th>1</th>\n      <td>1</td>\n      <td>95579.58</td>\n      <td>99543.74</td>\n      <td>98383.69</td>\n      <td>99367.76</td>\n      <td>96709.15</td>\n      <td>95579.58</td>\n      <td>99543.74</td>\n      <td>97916.784</td>\n    </tr>\n    <tr>\n      <th>2</th>\n      <td>2</td>\n      <td>94972.72</td>\n      <td>99514.14</td>\n      <td>98375.56</td>\n      <td>99367.56</td>\n      <td>96709.15</td>\n      <td>94972.72</td>\n      <td>99514.14</td>\n      <td>97787.826</td>\n    </tr>\n    <tr>\n      <th>3</th>\n      <td>3</td>\n      <td>93954.14</td>\n      <td>99514.14</td>\n      <td>98375.56</td>\n      <td>99367.56</td>\n      <td>95658.45</td>\n      <td>93954.14</td>\n      <td>99514.14</td>\n      <td>97373.970</td>\n    </tr>\n    <tr>\n      <th>4</th>\n      <td>4</td>\n      <td>93954.14</td>\n      <td>99513.40</td>\n      <td>97313.25</td>\n      <td>98280.62</td>\n      <td>95658.45</td>\n      <td>93954.14</td>\n      <td>99513.40</td>\n      <td>96943.972</td>\n    </tr>\n    <tr>\n      <th>...</th>\n      <td>...</td>\n      <td>...</td>\n      <td>...</td>\n      <td>...</td>\n      <td>...</td>\n      <td>...</td>\n      <td>...</td>\n      <td>...</td>\n      <td>...</td>\n    </tr>\n    <tr>\n      <th>996</th>\n      <td>996</td>\n      <td>31607.14</td>\n      <td>37694.36</td>\n      <td>39771.91</td>\n      <td>27509.15</td>\n      <td>22379.95</td>\n      <td>22379.95</td>\n      <td>39771.91</td>\n      <td>31792.502</td>\n    </tr>\n    <tr>\n      <th>997</th>\n      <td>997</td>\n      <td>31607.14</td>\n      <td>37694.36</td>\n      <td>39771.91</td>\n      <td>27509.15</td>\n      <td>22379.95</td>\n      <td>22379.95</td>\n      <td>39771.91</td>\n      <td>31792.502</td>\n    </tr>\n    <tr>\n      <th>998</th>\n      <td>998</td>\n      <td>31607.14</td>\n      <td>37694.36</td>\n      <td>39769.60</td>\n      <td>27509.15</td>\n      <td>22379.95</td>\n      <td>22379.95</td>\n      <td>39769.60</td>\n      <td>31792.040</td>\n    </tr>\n    <tr>\n      <th>999</th>\n      <td>999</td>\n      <td>31607.14</td>\n      <td>37694.36</td>\n      <td>39769.60</td>\n      <td>27509.15</td>\n      <td>22379.95</td>\n      <td>22379.95</td>\n      <td>39769.60</td>\n      <td>31792.040</td>\n    </tr>\n    <tr>\n      <th>1000</th>\n      <td>1000</td>\n      <td>31607.14</td>\n      <td>37694.36</td>\n      <td>39769.60</td>\n      <td>27509.15</td>\n      <td>22379.95</td>\n      <td>22379.95</td>\n      <td>39769.60</td>\n      <td>31792.040</td>\n    </tr>\n  </tbody>\n</table>\n<p>1001 rows × 9 columns</p>\n</div>"
     },
     "execution_count": 73,
     "metadata": {},
     "output_type": "execute_result"
    }
   ],
   "source": [
    "logplot_sw"
   ],
   "metadata": {
    "collapsed": false,
    "pycharm": {
     "name": "#%%\n"
    }
   }
  },
  {
   "cell_type": "code",
   "execution_count": 67,
   "outputs": [
    {
     "data": {
      "text/plain": "      step    iter-0    iter-1    iter-2    iter-3    iter-4       min  \\\n0        0  98933.49  92867.87  89853.60  96354.57  97815.58  89853.60   \n1        1  98933.49  92865.91  89853.60  96354.57  97815.58  89853.60   \n2        2  97886.24  92829.31  88801.15  96354.57  97815.58  88801.15   \n3        3  97872.23  92829.31  85729.04  95282.16  97811.92  85729.04   \n4        4  97872.23  92829.31  85692.10  95282.16  97811.92  85692.10   \n...    ...       ...       ...       ...       ...       ...       ...   \n996    996     10.22      7.63     12.64     17.99      8.88      7.63   \n997    997     10.22      7.63     12.64     17.99      8.88      7.63   \n998    998     10.22      7.63     12.64     17.99      8.88      7.63   \n999    999     10.22      7.63     12.64     17.99      8.88      7.63   \n1000  1000     10.22      7.63     12.64     17.99      8.88      7.63   \n\n           max        ave  \n0     98933.49  95165.022  \n1     98933.49  95164.630  \n2     97886.24  94737.370  \n3     97872.23  93904.932  \n4     97872.23  93897.544  \n...        ...        ...  \n996      17.99     11.472  \n997      17.99     11.472  \n998      17.99     11.472  \n999      17.99     11.472  \n1000     17.99     11.472  \n\n[1001 rows x 9 columns]",
      "text/html": "<div>\n<style scoped>\n    .dataframe tbody tr th:only-of-type {\n        vertical-align: middle;\n    }\n\n    .dataframe tbody tr th {\n        vertical-align: top;\n    }\n\n    .dataframe thead th {\n        text-align: right;\n    }\n</style>\n<table border=\"1\" class=\"dataframe\">\n  <thead>\n    <tr style=\"text-align: right;\">\n      <th></th>\n      <th>step</th>\n      <th>iter-0</th>\n      <th>iter-1</th>\n      <th>iter-2</th>\n      <th>iter-3</th>\n      <th>iter-4</th>\n      <th>min</th>\n      <th>max</th>\n      <th>ave</th>\n    </tr>\n  </thead>\n  <tbody>\n    <tr>\n      <th>0</th>\n      <td>0</td>\n      <td>98933.49</td>\n      <td>92867.87</td>\n      <td>89853.60</td>\n      <td>96354.57</td>\n      <td>97815.58</td>\n      <td>89853.60</td>\n      <td>98933.49</td>\n      <td>95165.022</td>\n    </tr>\n    <tr>\n      <th>1</th>\n      <td>1</td>\n      <td>98933.49</td>\n      <td>92865.91</td>\n      <td>89853.60</td>\n      <td>96354.57</td>\n      <td>97815.58</td>\n      <td>89853.60</td>\n      <td>98933.49</td>\n      <td>95164.630</td>\n    </tr>\n    <tr>\n      <th>2</th>\n      <td>2</td>\n      <td>97886.24</td>\n      <td>92829.31</td>\n      <td>88801.15</td>\n      <td>96354.57</td>\n      <td>97815.58</td>\n      <td>88801.15</td>\n      <td>97886.24</td>\n      <td>94737.370</td>\n    </tr>\n    <tr>\n      <th>3</th>\n      <td>3</td>\n      <td>97872.23</td>\n      <td>92829.31</td>\n      <td>85729.04</td>\n      <td>95282.16</td>\n      <td>97811.92</td>\n      <td>85729.04</td>\n      <td>97872.23</td>\n      <td>93904.932</td>\n    </tr>\n    <tr>\n      <th>4</th>\n      <td>4</td>\n      <td>97872.23</td>\n      <td>92829.31</td>\n      <td>85692.10</td>\n      <td>95282.16</td>\n      <td>97811.92</td>\n      <td>85692.10</td>\n      <td>97872.23</td>\n      <td>93897.544</td>\n    </tr>\n    <tr>\n      <th>...</th>\n      <td>...</td>\n      <td>...</td>\n      <td>...</td>\n      <td>...</td>\n      <td>...</td>\n      <td>...</td>\n      <td>...</td>\n      <td>...</td>\n      <td>...</td>\n    </tr>\n    <tr>\n      <th>996</th>\n      <td>996</td>\n      <td>10.22</td>\n      <td>7.63</td>\n      <td>12.64</td>\n      <td>17.99</td>\n      <td>8.88</td>\n      <td>7.63</td>\n      <td>17.99</td>\n      <td>11.472</td>\n    </tr>\n    <tr>\n      <th>997</th>\n      <td>997</td>\n      <td>10.22</td>\n      <td>7.63</td>\n      <td>12.64</td>\n      <td>17.99</td>\n      <td>8.88</td>\n      <td>7.63</td>\n      <td>17.99</td>\n      <td>11.472</td>\n    </tr>\n    <tr>\n      <th>998</th>\n      <td>998</td>\n      <td>10.22</td>\n      <td>7.63</td>\n      <td>12.64</td>\n      <td>17.99</td>\n      <td>8.88</td>\n      <td>7.63</td>\n      <td>17.99</td>\n      <td>11.472</td>\n    </tr>\n    <tr>\n      <th>999</th>\n      <td>999</td>\n      <td>10.22</td>\n      <td>7.63</td>\n      <td>12.64</td>\n      <td>17.99</td>\n      <td>8.88</td>\n      <td>7.63</td>\n      <td>17.99</td>\n      <td>11.472</td>\n    </tr>\n    <tr>\n      <th>1000</th>\n      <td>1000</td>\n      <td>10.22</td>\n      <td>7.63</td>\n      <td>12.64</td>\n      <td>17.99</td>\n      <td>8.88</td>\n      <td>7.63</td>\n      <td>17.99</td>\n      <td>11.472</td>\n    </tr>\n  </tbody>\n</table>\n<p>1001 rows × 9 columns</p>\n</div>"
     },
     "execution_count": 67,
     "metadata": {},
     "output_type": "execute_result"
    }
   ],
   "source": [
    "logplot"
   ],
   "metadata": {
    "collapsed": false,
    "pycharm": {
     "name": "#%%\n"
    }
   }
  },
  {
   "cell_type": "code",
   "execution_count": 68,
   "outputs": [
    {
     "data": {
      "text/plain": "      step    iter-0    iter-1    iter-2    iter-3    iter-4       min  \\\n0        0  98933.49  92867.87  89853.60  96354.57  97815.58  89853.60   \n1        1  98933.49  92865.91  89853.60  96354.57  97815.58  89853.60   \n2        2  97886.24  92829.31  88801.15  96354.57  97815.58  88801.15   \n3        3  97872.23  92829.31  85729.04  95282.16  97811.92  85729.04   \n4        4  97872.23  92829.31  85692.10  95282.16  97811.92  85692.10   \n...    ...       ...       ...       ...       ...       ...       ...   \n996    996     10.22      7.63     12.64     17.99      8.88      7.63   \n997    997     10.22      7.63     12.64     17.99      8.88      7.63   \n998    998     10.22      7.63     12.64     17.99      8.88      7.63   \n999    999     10.22      7.63     12.64     17.99      8.88      7.63   \n1000  1000     10.22      7.63     12.64     17.99      8.88      7.63   \n\n           max        ave  \n0     98933.49  95165.022  \n1     98933.49  95164.630  \n2     97886.24  94737.370  \n3     97872.23  93904.932  \n4     97872.23  93897.544  \n...        ...        ...  \n996      17.99     11.472  \n997      17.99     11.472  \n998      17.99     11.472  \n999      17.99     11.472  \n1000     17.99     11.472  \n\n[1001 rows x 9 columns]",
      "text/html": "<div>\n<style scoped>\n    .dataframe tbody tr th:only-of-type {\n        vertical-align: middle;\n    }\n\n    .dataframe tbody tr th {\n        vertical-align: top;\n    }\n\n    .dataframe thead th {\n        text-align: right;\n    }\n</style>\n<table border=\"1\" class=\"dataframe\">\n  <thead>\n    <tr style=\"text-align: right;\">\n      <th></th>\n      <th>step</th>\n      <th>iter-0</th>\n      <th>iter-1</th>\n      <th>iter-2</th>\n      <th>iter-3</th>\n      <th>iter-4</th>\n      <th>min</th>\n      <th>max</th>\n      <th>ave</th>\n    </tr>\n  </thead>\n  <tbody>\n    <tr>\n      <th>0</th>\n      <td>0</td>\n      <td>98933.49</td>\n      <td>92867.87</td>\n      <td>89853.60</td>\n      <td>96354.57</td>\n      <td>97815.58</td>\n      <td>89853.60</td>\n      <td>98933.49</td>\n      <td>95165.022</td>\n    </tr>\n    <tr>\n      <th>1</th>\n      <td>1</td>\n      <td>98933.49</td>\n      <td>92865.91</td>\n      <td>89853.60</td>\n      <td>96354.57</td>\n      <td>97815.58</td>\n      <td>89853.60</td>\n      <td>98933.49</td>\n      <td>95164.630</td>\n    </tr>\n    <tr>\n      <th>2</th>\n      <td>2</td>\n      <td>97886.24</td>\n      <td>92829.31</td>\n      <td>88801.15</td>\n      <td>96354.57</td>\n      <td>97815.58</td>\n      <td>88801.15</td>\n      <td>97886.24</td>\n      <td>94737.370</td>\n    </tr>\n    <tr>\n      <th>3</th>\n      <td>3</td>\n      <td>97872.23</td>\n      <td>92829.31</td>\n      <td>85729.04</td>\n      <td>95282.16</td>\n      <td>97811.92</td>\n      <td>85729.04</td>\n      <td>97872.23</td>\n      <td>93904.932</td>\n    </tr>\n    <tr>\n      <th>4</th>\n      <td>4</td>\n      <td>97872.23</td>\n      <td>92829.31</td>\n      <td>85692.10</td>\n      <td>95282.16</td>\n      <td>97811.92</td>\n      <td>85692.10</td>\n      <td>97872.23</td>\n      <td>93897.544</td>\n    </tr>\n    <tr>\n      <th>...</th>\n      <td>...</td>\n      <td>...</td>\n      <td>...</td>\n      <td>...</td>\n      <td>...</td>\n      <td>...</td>\n      <td>...</td>\n      <td>...</td>\n      <td>...</td>\n    </tr>\n    <tr>\n      <th>996</th>\n      <td>996</td>\n      <td>10.22</td>\n      <td>7.63</td>\n      <td>12.64</td>\n      <td>17.99</td>\n      <td>8.88</td>\n      <td>7.63</td>\n      <td>17.99</td>\n      <td>11.472</td>\n    </tr>\n    <tr>\n      <th>997</th>\n      <td>997</td>\n      <td>10.22</td>\n      <td>7.63</td>\n      <td>12.64</td>\n      <td>17.99</td>\n      <td>8.88</td>\n      <td>7.63</td>\n      <td>17.99</td>\n      <td>11.472</td>\n    </tr>\n    <tr>\n      <th>998</th>\n      <td>998</td>\n      <td>10.22</td>\n      <td>7.63</td>\n      <td>12.64</td>\n      <td>17.99</td>\n      <td>8.88</td>\n      <td>7.63</td>\n      <td>17.99</td>\n      <td>11.472</td>\n    </tr>\n    <tr>\n      <th>999</th>\n      <td>999</td>\n      <td>10.22</td>\n      <td>7.63</td>\n      <td>12.64</td>\n      <td>17.99</td>\n      <td>8.88</td>\n      <td>7.63</td>\n      <td>17.99</td>\n      <td>11.472</td>\n    </tr>\n    <tr>\n      <th>1000</th>\n      <td>1000</td>\n      <td>10.22</td>\n      <td>7.63</td>\n      <td>12.64</td>\n      <td>17.99</td>\n      <td>8.88</td>\n      <td>7.63</td>\n      <td>17.99</td>\n      <td>11.472</td>\n    </tr>\n  </tbody>\n</table>\n<p>1001 rows × 9 columns</p>\n</div>"
     },
     "execution_count": 68,
     "metadata": {},
     "output_type": "execute_result"
    }
   ],
   "source": [
    "logplot_sw"
   ],
   "metadata": {
    "collapsed": false,
    "pycharm": {
     "name": "#%%\n"
    }
   }
  },
  {
   "cell_type": "code",
   "execution_count": 80,
   "outputs": [
    {
     "data": {
      "text/plain": "<matplotlib.legend.Legend at 0x282749e20>"
     },
     "execution_count": 80,
     "metadata": {},
     "output_type": "execute_result"
    },
    {
     "data": {
      "text/plain": "<Figure size 432x288 with 1 Axes>",
      "image/png": "[encoded data removed]"
     },
     "metadata": {
      "needs_background": "light"
     },
     "output_type": "display_data"
    }
   ],
   "source": [
    "fig, ax = plt.subplots()\n",
    "ax.fill_between(logplot_sw[\"step\"], logplot_sw[\"min\"], logplot_sw[\"max\"], alpha=0.3, label=\"MH\")\n",
    "ax.plot(logplot_sw[\"step\"], logplot_sw[\"ave\"])\n",
    "ax.fill_between(logplot[\"step\"], logplot[\"min\"], logplot[\"max\"], alpha=0.3, label=\"QHM\")\n",
    "ax.plot(logplot[\"step\"], logplot[\"ave\"])\n",
    "ax.set_xlim(0, 1000)\n",
    "ax.set_ylim(0, 100_000)\n",
    "ax.set_xlabel(\"Step\")\n",
    "ax.set_ylabel(\"Cost\")\n",
    "plt.legend()"
   ],
   "metadata": {
    "collapsed": false,
    "pycharm": {
     "name": "#%%\n"
    }
   }
  },
  {
   "cell_type": "code",
   "execution_count": null,
   "outputs": [],
   "source": [],
   "metadata": {
    "collapsed": false,
    "pycharm": {
     "name": "#%%\n"
    }
   }
  }
 ],
 "metadata": {
  "kernelspec": {
   "display_name": "Python 3",
   "language": "python",
   "name": "python3"
  },
  "language_info": {
   "codemirror_mode": {
    "name": "ipython",
    "version": 2
   },
   "file_extension": ".py",
   "mimetype": "text/x-python",
   "name": "python",
   "nbconvert_exporter": "python",
   "pygments_lexer": "ipython2",
   "version": "2.7.6"
  }
 },
 "nbformat": 4,
 "nbformat_minor": 0
}